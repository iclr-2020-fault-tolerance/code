{
 "cells": [
  {
   "cell_type": "code",
   "execution_count": 5,
   "metadata": {
    "ExecuteTime": {
     "end_time": "2019-01-20T20:13:59.673640Z",
     "start_time": "2019-01-20T20:13:57.997310Z"
    }
   },
   "outputs": [
    {
     "name": "stdout",
     "output_type": "stream",
     "text": [
      "The autoreload extension is already loaded. To reload it, use:\n",
      "  %reload_ext autoreload\n"
     ]
    }
   ],
   "source": [
    "%load_ext autoreload\n",
    "%autoreload 2\n",
    "%matplotlib inline\n",
    "from experiment_train import *\n",
    "from experiment_datasets import *\n",
    "from helpers import *\n",
    "import matplotlib\n",
    "from matplotlib.patches import Patch"
   ]
  },
  {
   "cell_type": "code",
   "execution_count": 6,
   "metadata": {
    "ExecuteTime": {
     "end_time": "2019-01-20T20:13:59.823133Z",
     "start_time": "2019-01-20T20:13:59.812310Z"
    }
   },
   "outputs": [],
   "source": [
    "# network configuration\n",
    "N = [100, 50]\n",
    "\n",
    "def get_p_arr(p):\n",
    "    \"\"\" p array with failure on the first layer \"\"\"\n",
    "    return [0, p]  + [0] * len(N)\n",
    "\n",
    "# prob. of failure at inference\n",
    "p_inf = 0.05\n",
    "p_inference = get_p_arr(p_inf)\n",
    "\n",
    "# prob. of failure at train\n",
    "p_trains = np.linspace(0, 1.2 * p_inf, 10)\n",
    "\n",
    "# Lips. coeff\n",
    "KLips = 1.\n",
    "\n",
    "# activation function\n",
    "activation = 'sigmoid'\n",
    "\n",
    "# number of repeats for error estimation\n",
    "# see below for explanation\n",
    "repetitions = 6\n",
    "\n",
    "# number of runs for each p\n",
    "runs = 10"
   ]
  },
  {
   "cell_type": "code",
   "execution_count": 7,
   "metadata": {
    "ExecuteTime": {
     "end_time": "2019-01-20T20:13:59.971152Z",
     "start_time": "2019-01-20T20:13:59.956056Z"
    }
   },
   "outputs": [],
   "source": [
    "def get_results(p):\n",
    "    # obtaining the distribution after 10 epochs\n",
    "    results = []\n",
    "    \n",
    "    # current prob. of failure array\n",
    "    p_train = get_p_arr(p)\n",
    "    \n",
    "    def unravel(name, data):\n",
    "        return {name + '_' + key: data[key] for key in data.keys()}\n",
    "    \n",
    "    for _ in tqdm(range(runs)):\n",
    "        exp = MNISTExperiment(N = N, p_inference = p_inference, p_train = p_train, KLips = KLips, epochs = 10,\n",
    "                                      activation = activation, reg_type = None, reg_coeff = 0, do_print = False,\n",
    "                                      name = 'experiment_dropout', seed = None, batch_size = 100)\n",
    "        \n",
    "        results += [{**unravel('correct_acc', exp.get_accuracy_correct()), # test_only = True\n",
    "                     **unravel('crashing_acc', exp.get_accuracy_crash(repetitions = repetitions)), # test_only = True\n",
    "                     \n",
    "                     **unravel('correct_mae', exp.get_mae_correct()),\n",
    "                     **unravel('crashing_mae', exp.get_mae_crash(repetitions = repetitions)),\n",
    "                     \n",
    "                     'v2_var': np.mean(exp.get_bound_v2(exp.x_train)['std'] ** 2),\n",
    "                     'v2_mean': np.mean(exp.get_bound_v2(exp.x_train)['mean']),\n",
    "                     \n",
    "                     'v3_var': np.mean(exp.get_bound_v3(exp.x_train)['std'] ** 2),\n",
    "                     'v3_mean': np.mean(exp.get_bound_v3(exp.x_train)['mean']),\n",
    "                               \n",
    "                     'v4_var': np.mean(exp.get_bound_v4(exp.x_train)['std'] ** 2),\n",
    "                     'v4_mean': np.mean(exp.get_bound_v4(exp.x_train)['mean']),\n",
    "                     \n",
    "                     'v1_infnorm_mean': np.mean(exp.get_bound_v1_infnorm(exp.x_train)['mean']),\n",
    "                    }]\n",
    "        \n",
    "        # freeing up the memory\n",
    "        K.clear_session()\n",
    "        \n",
    "    # list of all keys\n",
    "    keys = list(results[0].keys())\n",
    "    \n",
    "    # return results\n",
    "    return {key: [value[key] for value in results] for key in keys}\n",
    "\n",
    "def process_results_single(results):\n",
    "    for key, value in results.items():\n",
    "        plt.figure()\n",
    "        plt.title('%s: %.3f +- %.3f med %.3f' % (key, np.mean(value), np.std(value), np.median(value)))\n",
    "        plt.hist(value)\n",
    "        plt.xlabel(key)\n",
    "        plt.show()"
   ]
  },
  {
   "cell_type": "code",
   "execution_count": 4,
   "metadata": {},
   "outputs": [],
   "source": [
    "exp = MNISTExperiment(N = N, p_inference = p_inference, p_train = get_p_arr(0.01), KLips = KLips, epochs = 10,\n",
    "                                      activation = activation, reg_type = None, reg_coeff = 0, do_print = False,\n",
    "                                      name = 'experiment_dropout', seed = None, batch_size = 100)"
   ]
  },
  {
   "cell_type": "code",
   "execution_count": 5,
   "metadata": {},
   "outputs": [],
   "source": [
    "# array of repetitions values\n",
    "rs = np.arange(10)[1:]"
   ]
  },
  {
   "cell_type": "code",
   "execution_count": 6,
   "metadata": {},
   "outputs": [
    {
     "name": "stderr",
     "output_type": "stream",
     "text": [
      "100%|██████████| 9/9 [00:36<00:00,  4.06s/it]\n"
     ]
    }
   ],
   "source": [
    "# obtaining accuracy for each repetition parameter\n",
    "results = [exp.get_accuracy_crash(repetitions = r) for r in tqdm(rs)]"
   ]
  },
  {
   "cell_type": "code",
   "execution_count": 8,
   "metadata": {},
   "outputs": [
    {
     "data": {
      "image/png": "[encoded data removed]",
      "text/plain": [
       "<Figure size 432x288 with 1 Axes>"
      ]
     },
     "metadata": {
      "needs_background": "light"
     },
     "output_type": "display_data"
    }
   ],
   "source": [
    "plt.figure()\n",
    "plt.title('Crash accuracy and repetitions')\n",
    "plt.plot(rs, [x['train'] for x in results], label = 'crash train')\n",
    "plt.plot(rs, [exp.get_accuracy_correct()['train']] * len(rs), label = 'correct train')\n",
    "plt.plot(rs, [exp.get_accuracy_correct()['test']] * len(rs), label = 'correct test')\n",
    "plt.plot(rs, [x['test'] for x in results], label = 'crash test')\n",
    "plt.xlabel('Repetitions')\n",
    "plt.legend()\n",
    "plt.show()"
   ]
  },
  {
   "cell_type": "code",
   "execution_count": 11,
   "metadata": {
    "deletable": false,
    "editable": false,
    "run_control": {
     "frozen": true
    }
   },
   "outputs": [
    {
     "name": "stderr",
     "output_type": "stream",
     "text": [
      "100%|██████████| 9/9 [00:35<00:00,  5.17s/it]\n"
     ]
    }
   ],
   "source": [
    "# obtaining accuracy for each repetition parameter\n",
    "results = [exp.get_mae_crash(repetitions = r) for r in tqdm(rs)]"
   ]
  },
  {
   "cell_type": "code",
   "execution_count": 14,
   "metadata": {
    "deletable": false,
    "editable": false,
    "run_control": {
     "frozen": true
    }
   },
   "outputs": [
    {
     "data": {
      "image/png": "[encoded data removed]",
      "text/plain": [
       "<Figure size 432x288 with 1 Axes>"
      ]
     },
     "metadata": {
      "needs_background": "light"
     },
     "output_type": "display_data"
    }
   ],
   "source": [
    "plt.figure()\n",
    "plt.title('Crash MAE and repetitions')\n",
    "plt.plot(rs, [x['train'] for x in results], label = 'train')\n",
    "plt.plot(rs, [exp.get_mae_correct()['train']] * len(rs), label = 'correct_train')\n",
    "plt.plot(rs, [exp.get_mae_correct()['test']] * len(rs), label = 'correct_test')\n",
    "plt.plot(rs, [x['test'] for x in results], label = 'test')\n",
    "plt.legend()\n",
    "plt.show()"
   ]
  },
  {
   "cell_type": "code",
   "execution_count": 4,
   "metadata": {
    "deletable": false,
    "editable": false,
    "run_control": {
     "frozen": true
    }
   },
   "outputs": [],
   "source": [
    "# 6 repetitions of the dataset is enough"
   ]
  },
  {
   "cell_type": "code",
   "execution_count": 4,
   "metadata": {
    "ExecuteTime": {
     "end_time": "2019-01-08T14:38:22.190832Z",
     "start_time": "2019-01-08T13:52:42.600552Z"
    },
    "deletable": false,
    "editable": false,
    "run_control": {
     "frozen": true
    }
   },
   "outputs": [
    {
     "name": "stderr",
     "output_type": "stream",
     "text": [
      "100%|██████████| 10/10 [03:51<00:00, 23.17s/it]\n",
      "100%|██████████| 10/10 [04:33<00:00, 27.95s/it]\n",
      "100%|██████████| 10/10 [04:34<00:00, 27.06s/it]\n",
      "100%|██████████| 10/10 [04:41<00:00, 28.78s/it]\n",
      "100%|██████████| 10/10 [04:34<00:00, 27.97s/it]\n",
      "100%|██████████| 10/10 [04:45<00:00, 28.94s/it]\n",
      "100%|██████████| 10/10 [04:42<00:00, 28.97s/it]\n",
      "100%|██████████| 10/10 [04:40<00:00, 27.38s/it]\n",
      "100%|██████████| 10/10 [04:46<00:00, 29.23s/it]\n",
      "100%|██████████| 10/10 [04:29<00:00, 27.31s/it]\n"
     ]
    }
   ],
   "source": [
    "# obtaining results\n",
    "results_array = [get_results(p) for p in p_trains]"
   ]
  },
  {
   "cell_type": "code",
   "execution_count": 8,
   "metadata": {
    "ExecuteTime": {
     "end_time": "2019-01-20T20:14:16.522095Z",
     "start_time": "2019-01-20T20:14:16.510505Z"
    }
   },
   "outputs": [],
   "source": [
    "save_fn = 'ComparisonIncreasingDropoutMNIST.ipynb.pkl'\n",
    "#pickle.dump(results_array, open(save_fn, 'wb'))\n",
    "results_array = pickle.load(open(save_fn, 'rb'))"
   ]
  },
  {
   "cell_type": "code",
   "execution_count": 9,
   "metadata": {
    "ExecuteTime": {
     "end_time": "2019-01-20T20:14:17.248855Z",
     "start_time": "2019-01-20T20:14:17.237060Z"
    }
   },
   "outputs": [],
   "source": [
    "font = {'family' : 'STIXGeneral',\n",
    "        'weight' : 'normal',\n",
    "        'size'   : 20}\n",
    "matplotlib.rc('font', **font)"
   ]
  },
  {
   "cell_type": "code",
   "execution_count": 10,
   "metadata": {
    "ExecuteTime": {
     "end_time": "2019-01-20T20:14:18.556731Z",
     "start_time": "2019-01-20T20:14:18.544294Z"
    }
   },
   "outputs": [],
   "source": [
    "def plot_quantity(results_array, name, axis = plt, style = '-', **kwargs):\n",
    "    \"\"\" Plot mean and variance of a quantity in results_array with name \"\"\"\n",
    "    means = np.array([np.mean(r[name]) for r in results_array])\n",
    "    stds  = [np.std(r[name]) for r in results_array]\n",
    "    if name.startswith('v'):\n",
    "        name = 'b' + name[1:]\n",
    "    axis.plot(p_trains, means, style, label = name, **kwargs)\n",
    "    axis.fill_between(p_trains, means - stds, means + stds, alpha = 0.5, **kwargs)"
   ]
  },
  {
   "cell_type": "code",
   "execution_count": 11,
   "metadata": {
    "ExecuteTime": {
     "end_time": "2019-01-20T20:14:18.958832Z",
     "start_time": "2019-01-20T20:14:18.655504Z"
    }
   },
   "outputs": [
    {
     "data": {
      "image/png": "[encoded data removed]",
      "text/plain": [
       "<Figure size 432x288 with 1 Axes>"
      ]
     },
     "metadata": {
      "needs_background": "light"
     },
     "output_type": "display_data"
    }
   ],
   "source": [
    "# it also decays for train\n",
    "plt.figure()\n",
    "plt.title('Mean Absolute Error and train dropout')\n",
    "plot_quantity(results_array, 'correct_mae_test')\n",
    "plot_quantity(results_array, 'crashing_mae_test')\n",
    "#plot_quantity(results_array, 'correct_mae_train')\n",
    "#plot_quantity(results_array, 'crashing_mae_train')\n",
    "plt.xlabel('p_train')\n",
    "plt.ylabel('MAE')\n",
    "plt.legend()\n",
    "plt.savefig('figures/comparison_mae_do_mnist.pdf', bbox_inches = 'tight')\n",
    "plt.savefig('figures/comparison_mae_do_mnist.png', bbox_inches = 'tight')\n",
    "plt.show()"
   ]
  },
  {
   "cell_type": "code",
   "execution_count": 12,
   "metadata": {
    "ExecuteTime": {
     "end_time": "2019-01-20T20:14:21.179749Z",
     "start_time": "2019-01-20T20:14:20.860709Z"
    }
   },
   "outputs": [
    {
     "data": {
      "text/plain": [
       "<Figure size 432x288 with 0 Axes>"
      ]
     },
     "metadata": {},
     "output_type": "display_data"
    },
    {
     "data": {
      "image/png": "[encoded data removed]",
      "text/plain": [
       "<Figure size 216x216 with 2 Axes>"
      ]
     },
     "metadata": {
      "needs_background": "light"
     },
     "output_type": "display_data"
    }
   ],
   "source": [
    "# it also behaves the same for train\n",
    "plt.figure()\n",
    "\n",
    "fig, ax1 = plt.subplots(figsize=(3, 3))\n",
    "\n",
    "#plt.title('Accuracy over the dataset and train dropout')\n",
    "plot_quantity(results_array, 'correct_acc_test', color = 'green', axis = ax1)\n",
    "plot_quantity(results_array, 'crashing_acc_test', color = 'red', axis = ax1)\n",
    "plot_quantity(results_array, 'correct_acc_train', color = 'green', style = '--',  axis = ax1)\n",
    "plot_quantity(results_array, 'crashing_acc_train', color = 'red', style = '--', axis = ax1)\n",
    "\n",
    "ax2 = ax1.twinx()\n",
    "#ax3 = ax1.twinx()\n",
    "#ax4 = ax1.twinx()\n",
    "ax2.set_ylabel('Error $\\Delta$')\n",
    "plot_quantity(results_array, 'v3_var', axis = ax2)\n",
    "# https://stackoverflow.com/questions/43152502/how-can-i-rotate-xticklabels-in-matplotlib-so-that-the-spacing-between-each-xtic/43153984\n",
    "for label in ax2.get_yticklabels():\n",
    "    label.set_rotation(90)\n",
    "#plot_quantity(results_array, 'v4_var', axis = ax2)\n",
    "ax1.set_xlabel('$p_{train}$')\n",
    "ax1.set_ylabel('Accuracy')\n",
    "#ax1.legend()\n",
    "#ax2.legend()\n",
    "\n",
    "#plt.savefig('figures/comparison_acc_do_mnist.png', bbox_inches = 'tight')\n",
    "ax1.text(-0.025, 0.962,'●', color = 'red',ha=\"center\", va=\"bottom\")\n",
    "ax1.text(-0.025, 0.966,'●', color = 'green',ha=\"center\", va=\"bottom\")\n",
    "ax2.text(0.077, 0.0035,'●', color = 'blue',ha=\"center\", va=\"bottom\")\n",
    "\n",
    "legend_elements = [plt.Line2D([0], [0], linestyle = '--', color='black', lw=2, label='Train'),\n",
    "                   plt.Line2D([0], [0], linestyle = '-', color='black', lw=2, label='Test'),\n",
    "                   ]\n",
    "plt.legend(handles=legend_elements, loc='lower right', framealpha = 0.5)\n",
    "plt.savefig('figures/comparison_acc_do_mnist.pdf', bbox_inches = 'tight')\n",
    "plt.show()"
   ]
  },
  {
   "cell_type": "markdown",
   "metadata": {
    "ExecuteTime": {
     "end_time": "2019-01-08T16:55:05.814085Z",
     "start_time": "2019-01-08T16:55:05.797499Z"
    }
   },
   "source": [
    "Choosing p_train = 0.02 results in increase in crashing accuracy by 1% but almost no decrease in correct accuracy"
   ]
  },
  {
   "cell_type": "code",
   "execution_count": 13,
   "metadata": {
    "ExecuteTime": {
     "end_time": "2019-01-20T20:14:35.239100Z",
     "start_time": "2019-01-20T20:14:35.219869Z"
    }
   },
   "outputs": [],
   "source": [
    "# threshold for p_train\n",
    "threshold = 0.03\n",
    "\n",
    "def get_rank_loss(results_array, key):\n",
    "    def allvalues(array, key, threshold = threshold):\n",
    "        \"\"\" Array of values with same key \"\"\"\n",
    "        return [entry[key] for i, entry in enumerate(array) if p_trains[i] <= threshold]\n",
    "    \n",
    "    # values for key\n",
    "    values = allvalues(results_array, key)\n",
    "    \n",
    "    # number of p settings\n",
    "    bins  = len(values)\n",
    "    \n",
    "    # number of networks for each p\n",
    "    inbin = len(values[0])\n",
    "    \n",
    "    # resulting yes/no array\n",
    "    result = []\n",
    "    \n",
    "    # loops over bind\n",
    "    for bin1 in range(bins):\n",
    "        for bin2 in range(bins):\n",
    "            # bin1 < bin2\n",
    "            if bin1 >= bin2: continue\n",
    "                \n",
    "            # loops inside the bin\n",
    "            for elem1 in range(inbin):\n",
    "                for elem2 in range(inbin):\n",
    "                    # comparing v1 and v2\n",
    "                    value1 = values[bin1][elem1]\n",
    "                    value2 = values[bin2][elem2]\n",
    "                    result += [value1 < value2]\n",
    "                    \n",
    "    # result: number of incorrectly ordered pairs\n",
    "    value = np.mean(result)\n",
    "    return min(value, 1 - value)"
   ]
  },
  {
   "cell_type": "code",
   "execution_count": 14,
   "metadata": {
    "ExecuteTime": {
     "end_time": "2019-01-20T20:14:35.771821Z",
     "start_time": "2019-01-20T20:14:35.751494Z"
    }
   },
   "outputs": [],
   "source": [
    "# all keys\n",
    "keys = results_array[0].keys()\n",
    "\n",
    "# all losses\n",
    "losses = {key: get_rank_loss(results_array, key) for key in keys}\n",
    "keys = sorted(keys, key = lambda x : losses[x])"
   ]
  },
  {
   "cell_type": "code",
   "execution_count": 22,
   "metadata": {
    "ExecuteTime": {
     "end_time": "2019-01-20T20:14:36.184467Z",
     "start_time": "2019-01-20T20:14:36.167479Z"
    }
   },
   "outputs": [
    {
     "data": {
      "text/html": [
       "<div>\n",
       "<style scoped>\n",
       "    .dataframe tbody tr th:only-of-type {\n",
       "        vertical-align: middle;\n",
       "    }\n",
       "\n",
       "    .dataframe tbody tr th {\n",
       "        vertical-align: top;\n",
       "    }\n",
       "\n",
       "    .dataframe thead th {\n",
       "        text-align: right;\n",
       "    }\n",
       "</style>\n",
       "<table border=\"1\" class=\"dataframe\">\n",
       "  <thead>\n",
       "    <tr style=\"text-align: right;\">\n",
       "      <th></th>\n",
       "      <th>Key</th>\n",
       "      <th>Rank Loss</th>\n",
       "    </tr>\n",
       "  </thead>\n",
       "  <tbody>\n",
       "    <tr>\n",
       "      <th>0</th>\n",
       "      <td>v4_var</td>\n",
       "      <td>0.031</td>\n",
       "    </tr>\n",
       "    <tr>\n",
       "      <th>1</th>\n",
       "      <td>v3_var</td>\n",
       "      <td>0.036</td>\n",
       "    </tr>\n",
       "    <tr>\n",
       "      <th>2</th>\n",
       "      <td>crashing_mae_train</td>\n",
       "      <td>0.056</td>\n",
       "    </tr>\n",
       "    <tr>\n",
       "      <th>3</th>\n",
       "      <td>crashing_mae_test</td>\n",
       "      <td>0.056</td>\n",
       "    </tr>\n",
       "    <tr>\n",
       "      <th>4</th>\n",
       "      <td>crashing_acc_test</td>\n",
       "      <td>0.177</td>\n",
       "    </tr>\n",
       "    <tr>\n",
       "      <th>5</th>\n",
       "      <td>crashing_acc_train</td>\n",
       "      <td>0.198</td>\n",
       "    </tr>\n",
       "    <tr>\n",
       "      <th>6</th>\n",
       "      <td>correct_mae_test</td>\n",
       "      <td>0.220</td>\n",
       "    </tr>\n",
       "    <tr>\n",
       "      <th>7</th>\n",
       "      <td>correct_mae_train</td>\n",
       "      <td>0.233</td>\n",
       "    </tr>\n",
       "    <tr>\n",
       "      <th>8</th>\n",
       "      <td>v2_mean</td>\n",
       "      <td>0.248</td>\n",
       "    </tr>\n",
       "    <tr>\n",
       "      <th>9</th>\n",
       "      <td>correct_acc_train</td>\n",
       "      <td>0.317</td>\n",
       "    </tr>\n",
       "    <tr>\n",
       "      <th>10</th>\n",
       "      <td>v2_var</td>\n",
       "      <td>0.317</td>\n",
       "    </tr>\n",
       "    <tr>\n",
       "      <th>11</th>\n",
       "      <td>correct_acc_test</td>\n",
       "      <td>0.399</td>\n",
       "    </tr>\n",
       "    <tr>\n",
       "      <th>12</th>\n",
       "      <td>v3_mean</td>\n",
       "      <td>0.408</td>\n",
       "    </tr>\n",
       "    <tr>\n",
       "      <th>13</th>\n",
       "      <td>v4_mean</td>\n",
       "      <td>0.462</td>\n",
       "    </tr>\n",
       "  </tbody>\n",
       "</table>\n",
       "</div>"
      ],
      "text/plain": [
       "                   Key  Rank Loss\n",
       "0               v4_var      0.031\n",
       "1               v3_var      0.036\n",
       "2   crashing_mae_train      0.056\n",
       "3    crashing_mae_test      0.056\n",
       "4    crashing_acc_test      0.177\n",
       "5   crashing_acc_train      0.198\n",
       "6     correct_mae_test      0.220\n",
       "7    correct_mae_train      0.233\n",
       "8              v2_mean      0.248\n",
       "9    correct_acc_train      0.317\n",
       "10              v2_var      0.317\n",
       "11    correct_acc_test      0.399\n",
       "12             v3_mean      0.408\n",
       "13             v4_mean      0.462"
      ]
     },
     "execution_count": 22,
     "metadata": {},
     "output_type": "execute_result"
    }
   ],
   "source": [
    "# rank loss with dropout increase\n",
    "df = pd.DataFrame([(key, losses[key]) for key in keys], columns = ['Key', 'Rank Loss'])\n",
    "df"
   ]
  },
  {
   "cell_type": "code",
   "execution_count": 34,
   "metadata": {
    "ExecuteTime": {
     "end_time": "2019-01-20T20:14:43.699469Z",
     "start_time": "2019-01-20T20:14:43.513692Z"
    }
   },
   "outputs": [
    {
     "name": "stdout",
     "output_type": "stream",
     "text": [
      "\\begin{tabular}{lr}\n",
      "\\toprule\n",
      "                Key &  Rank Loss \\\\\n",
      "\\midrule\n",
      "             v4\\_var &      0.031 \\\\\n",
      "             v3\\_var &      0.036 \\\\\n",
      " crashing\\_mae\\_train &      0.056 \\\\\n",
      "  crashing\\_mae\\_test &      0.056 \\\\\n",
      "  crashing\\_acc\\_test &      0.177 \\\\\n",
      " crashing\\_acc\\_train &      0.198 \\\\\n",
      "   correct\\_mae\\_test &      0.220 \\\\\n",
      "  correct\\_mae\\_train &      0.233 \\\\\n",
      "            v2\\_mean &      0.248 \\\\\n",
      "  correct\\_acc\\_train &      0.317 \\\\\n",
      "             v2\\_var &      0.317 \\\\\n",
      "   correct\\_acc\\_test &      0.399 \\\\\n",
      "            v3\\_mean &      0.408 \\\\\n",
      "            v4\\_mean &      0.462 \\\\\n",
      "\\bottomrule\n",
      "\\end{tabular}\n",
      "\n"
     ]
    }
   ],
   "source": [
    "print(df.to_latex(columns = ['Key', 'Rank Loss'], index = False))"
   ]
  },
  {
   "cell_type": "code",
   "execution_count": 16,
   "metadata": {
    "ExecuteTime": {
     "end_time": "2019-01-20T20:14:43.699469Z",
     "start_time": "2019-01-20T20:14:43.513692Z"
    }
   },
   "outputs": [
    {
     "data": {
      "image/png": "[encoded data removed]",
      "text/plain": [
       "<Figure size 360x144 with 1 Axes>"
      ]
     },
     "metadata": {
      "needs_background": "light"
     },
     "output_type": "display_data"
    }
   ],
   "source": [
    "plt.figure(figsize=(5,2))\n",
    "#plt.title('Bound comparison for dropout on train')\n",
    "plt.ylabel('Rank loss')\n",
    "keys_proc = ['b' + key[1:] if key.startswith('v') else key for key in keys]\n",
    "plt.bar(keys_proc, [losses[x] for x in keys])\n",
    "plt.xticks(rotation=90)\n",
    "plt.savefig('figures/comparison_do_mnist.pdf', bbox_inches = 'tight')\n",
    "#plt.savefig('figures/comparison_do_mnist.png', bbox_inches = 'tight')\n",
    "plt.show()"
   ]
  },
  {
   "cell_type": "code",
   "execution_count": 17,
   "metadata": {},
   "outputs": [],
   "source": [
    "# renaming entities to match the new paper\n",
    "# None means do not show\n",
    "def shorten(t):\n",
    "    def shorten_one(x):\n",
    "        z = {'train': '@', 'test': '#', 'acc': 'a', 'mae': 'm', 'correct': '+', 'crashing': '!'}\n",
    "        if x in z: return z[x]\n",
    "        return x\n",
    "    return ''.join([shorten_one(x) for x in t.split('_')])\n",
    "keys_rename = {key: shorten(key) for key in keys}\n",
    "keys_rename.update({'v4_var': None, 'v4_mean': None,\n",
    "                    'v3_var': \"v p5\",\n",
    "                    'v3_mean': \"e p5\",\n",
    "                    'v2_mean': \"e p2\",\n",
    "                    'v2_var': \"v p2\",\n",
    "              })\n",
    "def get_color(field):\n",
    "    if field.find('crashing') >= 0:\n",
    "        return 'red'\n",
    "    if field.find('correct') >= 0:\n",
    "        return 'green'\n",
    "    if field.startswith('v') and field.endswith('var'):\n",
    "        return 'blue'\n",
    "    return 'yellow'\n",
    "def get_style(field):\n",
    "    if field.find('train') >= 0:\n",
    "        return '/////'\n",
    "    if field.find('test') >= 0:\n",
    "        return \"\\\\\\\\\\\\\\\\\\\\\"\n",
    "    return ''\n",
    "#patterns = ('-', '+', 'x', '\\\\', '*', 'o', 'O', '.')"
   ]
  },
  {
   "cell_type": "code",
   "execution_count": 18,
   "metadata": {},
   "outputs": [],
   "source": [
    "font = {'family' : 'STIXGeneral',\n",
    "        'weight' : 'normal',\n",
    "        'size'   : 20}\n",
    "matplotlib.rc('font', **font)"
   ]
  },
  {
   "cell_type": "code",
   "execution_count": 19,
   "metadata": {},
   "outputs": [
    {
     "data": {
      "image/png": "[encoded data removed]",
      "text/plain": [
       "<Figure size 216x252 with 1 Axes>"
      ]
     },
     "metadata": {
      "needs_background": "light"
     },
     "output_type": "display_data"
    }
   ],
   "source": [
    "plt.figure(figsize=(3,3.5))\n",
    "#plt.title('Bound comparison for dropout on train')\n",
    "plt.xlabel('Rank loss with $p_{train}$')\n",
    "keys_show = [x for x in keys[::-1] if keys_rename[x] is not None]\n",
    "colors = [get_color(x) for x in keys_show]\n",
    "styles = [get_style(x) for x in keys_show]\n",
    "keys_renamed = [keys_rename[x] for x in keys_show]\n",
    "bars = plt.barh(keys_renamed, [losses[x] for x in keys_show], color = colors)\n",
    "for bar, pattern in zip(bars, styles):\n",
    "    bar.set_hatch(pattern)\n",
    "#plt.xticks(rotation=90)\n",
    "\n",
    "legend_elements = [Patch(facecolor='red'),\n",
    "                  Patch(facecolor='green'),\n",
    "                  Patch(facecolor='blue'),\n",
    "                  Patch(facecolor='yellow'),\n",
    "                  Patch(facecolor = 'white', hatch = '/////'),\n",
    "                  Patch(facecolor = 'white', hatch = '\\\\\\\\\\\\\\\\\\\\'),]\n",
    "plt.legend(legend_elements, ['!: Crash', '+: Corr', 'v: Var$\\Delta$', 'e: E$\\Delta$', '@: Train', '#: Test'],\n",
    "           ncol=1,  bbox_to_anchor=(0.5,0.25), fontsize = 15, handletextpad=0.1)\n",
    "plt.text(0.08, 10, \"a: Acc.\\nm: MAE\", fontsize=15)\n",
    "plt.savefig('figures/comparison_do_mnist.svg', bbox_inches = 'tight')\n",
    "plt.show()"
   ]
  },
  {
   "cell_type": "code",
   "execution_count": 20,
   "metadata": {},
   "outputs": [],
   "source": [
    "!rsvg-convert -f pdf -o figures/comparison_do_mnist.pdf figures/comparison_do_mnist.svg"
   ]
  },
  {
   "cell_type": "code",
   "execution_count": null,
   "metadata": {},
   "outputs": [],
   "source": []
  }
 ],
 "metadata": {
  "kernelspec": {
   "display_name": "Python 3",
   "language": "python",
   "name": "python3"
  },
  "language_info": {
   "codemirror_mode": {
    "name": "ipython",
    "version": 3
   },
   "file_extension": ".py",
   "mimetype": "text/x-python",
   "name": "python",
   "nbconvert_exporter": "python",
   "pygments_lexer": "ipython3",
   "version": "3.6.8"
  },
  "notify_time": "5",
  "varInspector": {
   "cols": {
    "lenName": 16,
    "lenType": 16,
    "lenVar": 40
   },
   "kernels_config": {
    "python": {
     "delete_cmd_postfix": "",
     "delete_cmd_prefix": "del ",
     "library": "var_list.py",
     "varRefreshCmd": "print(var_dic_list())"
    },
    "r": {
     "delete_cmd_postfix": ") ",
     "delete_cmd_prefix": "rm(",
     "library": "var_list.r",
     "varRefreshCmd": "cat(var_dic_list()) "
    }
   },
   "position": {
    "height": "407px",
    "left": "1561px",
    "right": "20px",
    "top": "120px",
    "width": "339px"
   },
   "types_to_exclude": [
    "module",
    "function",
    "builtin_function_or_method",
    "instance",
    "_Feature"
   ],
   "window_display": false
  }
 },
 "nbformat": 4,
 "nbformat_minor": 2
}
