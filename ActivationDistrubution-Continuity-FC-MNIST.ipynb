{
 "cells": [
  {
   "cell_type": "code",
   "execution_count": 2,
   "metadata": {
    "ExecuteTime": {
     "end_time": "2019-01-20T20:13:59.673640Z",
     "start_time": "2019-01-20T20:13:57.997310Z"
    }
   },
   "outputs": [
    {
     "name": "stderr",
     "output_type": "stream",
     "text": [
      "Using TensorFlow backend.\n"
     ]
    },
    {
     "name": "stdout",
     "output_type": "stream",
     "text": [
      "Initialized TensorFlow\n"
     ]
    }
   ],
   "source": [
    "%load_ext autoreload\n",
    "%autoreload 2\n",
    "%matplotlib inline\n",
    "from experiment_train import *\n",
    "from experiment_datasets import *\n",
    "from helpers import *\n",
    "import matplotlib"
   ]
  },
  {
   "cell_type": "code",
   "execution_count": 24,
   "metadata": {},
   "outputs": [],
   "source": [
    "def get_A(scale = 1.0, epochs = 15, N = [100, 100, 100], take_layer = 1):\n",
    "    # scaling the architecture up/down\n",
    "    N = [int(t * scale) for t in N]\n",
    "\n",
    "    def get_p_arr(p):\n",
    "        \"\"\" p array with failure on the first layer \"\"\"\n",
    "        return [0, p]  + [0] * len(N)\n",
    "\n",
    "    # Lips. coeff\n",
    "    KLips = 1.\n",
    "\n",
    "    # activation function\n",
    "    activation = 'sigmoid'\n",
    "\n",
    "    # training the network\n",
    "    exp = MNISTExperiment(N = N, p_inference = get_p_arr(0), p_train = get_p_arr(0), KLips = KLips, epochs = epochs,\n",
    "                                      activation = activation, reg_type = None, reg_coeff = 0, do_print = 'plot',\n",
    "                                      name = 'experiment_weights', seed = None, batch_size = 100)\n",
    "    \n",
    "    # using outputs of a hidden layer\n",
    "    model_partial = Model(inputs = exp.model_correct.inputs, outputs = exp.model_correct.layers[take_layer].output)\n",
    "    # using a fixed input\n",
    "    res = model_partial.predict(exp.x_train[0:1])\n",
    "    \n",
    "    # returning the activations in the middle\n",
    "    return res"
   ]
  },
  {
   "cell_type": "code",
   "execution_count": 33,
   "metadata": {},
   "outputs": [
    {
     "name": "stdout",
     "output_type": "stream",
     "text": [
      "Total runs: 50\n"
     ]
    }
   ],
   "source": [
    "# all scales of the network (up and down)\n",
    "scales = np.linspace(0.5, 5, 5)\n",
    "\n",
    "# repetitions for each scale\n",
    "repetitions = 10\n",
    "\n",
    "print('Total runs: %d' % (len(scales) * repetitions))"
   ]
  },
  {
   "cell_type": "code",
   "execution_count": 34,
   "metadata": {},
   "outputs": [],
   "source": [
    "def process_scale(s, **kwargs):\n",
    "    \"\"\" Run many repetitions for one scale \"\"\"\n",
    "    return [get_A(scale = s, **kwargs) for _ in range(repetitions)]\n",
    "\n",
    "def process_all(**kwargs):\n",
    "    \"\"\" Random variable with all results \"\"\"\n",
    "    return {scale: process_scale(scale, **kwargs) for scale in tqdm(scales)}"
   ]
  },
  {
   "cell_type": "code",
   "execution_count": 35,
   "metadata": {},
   "outputs": [
    {
     "name": "stderr",
     "output_type": "stream",
     "text": [
      "\n",
      "  0%|          | 0/5 [00:00<?, ?it/s]\u001b[A\n",
      " 20%|██        | 1/5 [00:34<02:17, 34.25s/it]\u001b[A\n",
      " 40%|████      | 2/5 [01:28<02:00, 40.18s/it]\u001b[A\n",
      " 60%|██████    | 3/5 [02:45<01:42, 51.35s/it]\u001b[A\n",
      " 80%|████████  | 4/5 [04:31<01:07, 67.66s/it]\u001b[A\n",
      "100%|██████████| 5/5 [06:50<00:00, 88.97s/it]\u001b[A"
     ]
    }
   ],
   "source": [
    "# obtaining the results (no training)\n",
    "results = process_all(epochs = 0)"
   ]
  },
  {
   "cell_type": "code",
   "execution_count": 32,
   "metadata": {},
   "outputs": [
    {
     "data": {
      "image/png": "[encoded data removed]",
      "text/plain": [
       "<Figure size 432x288 with 1 Axes>"
      ]
     },
     "metadata": {
      "needs_background": "light"
     },
     "output_type": "display_data"
    },
    {
     "data": {
      "image/png": "[encoded data removed]",
      "text/plain": [
       "<Figure size 432x288 with 1 Axes>"
      ]
     },
     "metadata": {
      "needs_background": "light"
     },
     "output_type": "display_data"
    },
    {
     "data": {
      "image/png": "[encoded data removed]",
      "text/plain": [
       "<Figure size 432x288 with 1 Axes>"
      ]
     },
     "metadata": {
      "needs_background": "light"
     },
     "output_type": "display_data"
    },
    {
     "data": {
      "image/png": "[encoded data removed]",
      "text/plain": [
       "<Figure size 432x288 with 1 Axes>"
      ]
     },
     "metadata": {
      "needs_background": "light"
     },
     "output_type": "display_data"
    },
    {
     "data": {
      "image/png": "[encoded data removed]",
      "text/plain": [
       "<Figure size 432x288 with 1 Axes>"
      ]
     },
     "metadata": {
      "needs_background": "light"
     },
     "output_type": "display_data"
    }
   ],
   "source": [
    "# untrained\n",
    "for scale in scales:\n",
    "    plt.figure()\n",
    "    for i in range(repetitions):\n",
    "        plt.hist(results[scale][i].flatten(), alpha = 0.3)\n",
    "    plt.show()"
   ]
  },
  {
   "cell_type": "markdown",
   "metadata": {},
   "source": [
    "Activations are ~ same"
   ]
  },
  {
   "cell_type": "code",
   "execution_count": null,
   "metadata": {},
   "outputs": [],
   "source": [
    "# obtaining the results (no training)\n",
    "results = process_all(epochs = 20)"
   ]
  },
  {
   "cell_type": "code",
   "execution_count": 38,
   "metadata": {},
   "outputs": [
    {
     "data": {
      "image/png": "[encoded data removed]",
      "text/plain": [
       "<Figure size 432x288 with 1 Axes>"
      ]
     },
     "metadata": {
      "needs_background": "light"
     },
     "output_type": "display_data"
    },
    {
     "data": {
      "image/png": "[encoded data removed]",
      "text/plain": [
       "<Figure size 432x288 with 1 Axes>"
      ]
     },
     "metadata": {
      "needs_background": "light"
     },
     "output_type": "display_data"
    },
    {
     "data": {
      "image/png": "[encoded data removed]",
      "text/plain": [
       "<Figure size 432x288 with 1 Axes>"
      ]
     },
     "metadata": {
      "needs_background": "light"
     },
     "output_type": "display_data"
    },
    {
     "data": {
      "image/png": "[encoded data removed]",
      "text/plain": [
       "<Figure size 432x288 with 1 Axes>"
      ]
     },
     "metadata": {
      "needs_background": "light"
     },
     "output_type": "display_data"
    },
    {
     "data": {
      "image/png": "[encoded data removed]",
      "text/plain": [
       "<Figure size 432x288 with 1 Axes>"
      ]
     },
     "metadata": {
      "needs_background": "light"
     },
     "output_type": "display_data"
    }
   ],
   "source": [
    "# trained 20 epochs\n",
    "for scale in scales:\n",
    "    plt.figure()\n",
    "    for i in range(repetitions):\n",
    "        plt.hist(results[scale][i].flatten(), alpha = 0.3, bins = 100, density = True)\n",
    "    plt.show()"
   ]
  },
  {
   "cell_type": "markdown",
   "metadata": {},
   "source": [
    "The distribution seems to stabilize"
   ]
  },
  {
   "cell_type": "code",
   "execution_count": null,
   "metadata": {},
   "outputs": [],
   "source": []
  }
 ],
 "metadata": {
  "kernelspec": {
   "display_name": "Python 3",
   "language": "python",
   "name": "python3"
  },
  "notify_time": "5",
  "varInspector": {
   "cols": {
    "lenName": 16,
    "lenType": 16,
    "lenVar": 40
   },
   "kernels_config": {
    "python": {
     "delete_cmd_postfix": "",
     "delete_cmd_prefix": "del ",
     "library": "var_list.py",
     "varRefreshCmd": "print(var_dic_list())"
    },
    "r": {
     "delete_cmd_postfix": ") ",
     "delete_cmd_prefix": "rm(",
     "library": "var_list.r",
     "varRefreshCmd": "cat(var_dic_list()) "
    }
   },
   "position": {
    "height": "407px",
    "left": "1561px",
    "right": "20px",
    "top": "120px",
    "width": "339px"
   },
   "types_to_exclude": [
    "module",
    "function",
    "builtin_function_or_method",
    "instance",
    "_Feature"
   ],
   "window_display": false
  }
 },
 "nbformat": 4,
 "nbformat_minor": 2
}
